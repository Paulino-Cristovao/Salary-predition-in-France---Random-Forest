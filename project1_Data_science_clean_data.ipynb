{
 "cells": [
  {
   "cell_type": "code",
   "execution_count": 1,
   "id": "b0c03748",
   "metadata": {},
   "outputs": [],
   "source": [
    "# Data Science Project\n",
    "# Predict the salary\n",
    "# Data collected from Glassdoor France"
   ]
  },
  {
   "cell_type": "code",
   "execution_count": 2,
   "id": "8cebbfa7",
   "metadata": {},
   "outputs": [],
   "source": [
    "#!pip3 install seaborn\n",
    "#!pip3 install numpy\n",
    "#!pip3 install matplotlib\n",
    "#!pip3 install pandas"
   ]
  },
  {
   "cell_type": "code",
   "execution_count": 3,
   "id": "0c5dc2e9",
   "metadata": {},
   "outputs": [],
   "source": [
    "import numpy as np\n",
    "import matplotlib.pyplot as plt\n",
    "import seaborn as sns\n",
    "import pandas as pd"
   ]
  },
  {
   "cell_type": "code",
   "execution_count": 4,
   "id": "5e06e0a7",
   "metadata": {},
   "outputs": [],
   "source": [
    "#"
   ]
  },
  {
   "cell_type": "code",
   "execution_count": 5,
   "id": "5e5d3fe4",
   "metadata": {},
   "outputs": [],
   "source": [
    "# Load the DataFrame \n",
    "df = pd.read_csv('data_.csv')"
   ]
  },
  {
   "cell_type": "code",
   "execution_count": 6,
   "id": "2dbc073c",
   "metadata": {},
   "outputs": [
    {
     "data": {
      "text/html": [
       "<div>\n",
       "<style scoped>\n",
       "    .dataframe tbody tr th:only-of-type {\n",
       "        vertical-align: middle;\n",
       "    }\n",
       "\n",
       "    .dataframe tbody tr th {\n",
       "        vertical-align: top;\n",
       "    }\n",
       "\n",
       "    .dataframe thead th {\n",
       "        text-align: right;\n",
       "    }\n",
       "</style>\n",
       "<table border=\"1\" class=\"dataframe\">\n",
       "  <thead>\n",
       "    <tr style=\"text-align: right;\">\n",
       "      <th></th>\n",
       "      <th>Unnamed: 0</th>\n",
       "      <th>company</th>\n",
       "      <th>job title</th>\n",
       "      <th>location</th>\n",
       "      <th>job description</th>\n",
       "      <th>salary estimate</th>\n",
       "      <th>company_size</th>\n",
       "      <th>company_type</th>\n",
       "      <th>company_sector</th>\n",
       "      <th>company_industry</th>\n",
       "      <th>company_founded</th>\n",
       "      <th>company_revenue</th>\n",
       "      <th>rating</th>\n",
       "    </tr>\n",
       "  </thead>\n",
       "  <tbody>\n",
       "    <tr>\n",
       "      <th>0</th>\n",
       "      <td>0</td>\n",
       "      <td>Publicis Sapient\\n3.7</td>\n",
       "      <td>Data Scientist - Senior Manager (H/F)</td>\n",
       "      <td>Paris</td>\n",
       "      <td>Company Description\\n\\nAs a digital business t...</td>\n",
       "      <td>€39K - €47K (Employer est.)</td>\n",
       "      <td>10000+ Employees</td>\n",
       "      <td>Company - Public</td>\n",
       "      <td>Management &amp; Consulting</td>\n",
       "      <td>Business Consulting</td>\n",
       "      <td>1990</td>\n",
       "      <td>Unknown / Non-Applicable</td>\n",
       "      <td>3.7</td>\n",
       "    </tr>\n",
       "    <tr>\n",
       "      <th>1</th>\n",
       "      <td>1</td>\n",
       "      <td>TotalEnergies\\n3.9</td>\n",
       "      <td>Data Scientist IA débutant F/H - Prédiction de...</td>\n",
       "      <td>Pau</td>\n",
       "      <td>Systèmes d'Information, Recherche Innovation&amp;D...</td>\n",
       "      <td>€39K - €47K (Employer est.)</td>\n",
       "      <td>10000+ Employees</td>\n",
       "      <td>Company - Public</td>\n",
       "      <td>Energy, Mining &amp; Utilities</td>\n",
       "      <td>Energy &amp; Utilities</td>\n",
       "      <td>1924</td>\n",
       "      <td>$25 to $100 million (USD)</td>\n",
       "      <td>3.9</td>\n",
       "    </tr>\n",
       "  </tbody>\n",
       "</table>\n",
       "</div>"
      ],
      "text/plain": [
       "   Unnamed: 0                company  \\\n",
       "0           0  Publicis Sapient\\n3.7   \n",
       "1           1     TotalEnergies\\n3.9   \n",
       "\n",
       "                                           job title location  \\\n",
       "0              Data Scientist - Senior Manager (H/F)    Paris   \n",
       "1  Data Scientist IA débutant F/H - Prédiction de...      Pau   \n",
       "\n",
       "                                     job description  \\\n",
       "0  Company Description\\n\\nAs a digital business t...   \n",
       "1  Systèmes d'Information, Recherche Innovation&D...   \n",
       "\n",
       "               salary estimate      company_size      company_type  \\\n",
       "0  €39K - €47K (Employer est.)  10000+ Employees  Company - Public   \n",
       "1  €39K - €47K (Employer est.)  10000+ Employees  Company - Public   \n",
       "\n",
       "               company_sector     company_industry  company_founded  \\\n",
       "0     Management & Consulting  Business Consulting             1990   \n",
       "1  Energy, Mining & Utilities   Energy & Utilities             1924   \n",
       "\n",
       "             company_revenue  rating  \n",
       "0   Unknown / Non-Applicable     3.7  \n",
       "1  $25 to $100 million (USD)     3.9  "
      ]
     },
     "execution_count": 6,
     "metadata": {},
     "output_type": "execute_result"
    }
   ],
   "source": [
    "# Visualizae the first 2 points\n",
    "df.head(2)"
   ]
  },
  {
   "cell_type": "code",
   "execution_count": 7,
   "id": "19c3d9d4",
   "metadata": {},
   "outputs": [
    {
     "data": {
      "text/html": [
       "<div>\n",
       "<style scoped>\n",
       "    .dataframe tbody tr th:only-of-type {\n",
       "        vertical-align: middle;\n",
       "    }\n",
       "\n",
       "    .dataframe tbody tr th {\n",
       "        vertical-align: top;\n",
       "    }\n",
       "\n",
       "    .dataframe thead th {\n",
       "        text-align: right;\n",
       "    }\n",
       "</style>\n",
       "<table border=\"1\" class=\"dataframe\">\n",
       "  <thead>\n",
       "    <tr style=\"text-align: right;\">\n",
       "      <th></th>\n",
       "      <th>Unnamed: 0</th>\n",
       "      <th>company</th>\n",
       "      <th>job title</th>\n",
       "      <th>location</th>\n",
       "      <th>job description</th>\n",
       "      <th>salary estimate</th>\n",
       "      <th>company_size</th>\n",
       "      <th>company_type</th>\n",
       "      <th>company_sector</th>\n",
       "      <th>company_industry</th>\n",
       "      <th>company_founded</th>\n",
       "      <th>company_revenue</th>\n",
       "      <th>rating</th>\n",
       "    </tr>\n",
       "  </thead>\n",
       "  <tbody>\n",
       "    <tr>\n",
       "      <th>268</th>\n",
       "      <td>268</td>\n",
       "      <td>Peroptyx</td>\n",
       "      <td>Analyste de données H/F</td>\n",
       "      <td>Paris</td>\n",
       "      <td>Vous recherchez un horaire de travail flexible...</td>\n",
       "      <td>€45K - €55K (Employer est.)</td>\n",
       "      <td>1 to 50 Employees</td>\n",
       "      <td>Company - Private</td>\n",
       "      <td>Information Technology</td>\n",
       "      <td>Internet &amp; Web Services</td>\n",
       "      <td>2018</td>\n",
       "      <td>Unknown / Non-Applicable</td>\n",
       "      <td>-1.0</td>\n",
       "    </tr>\n",
       "    <tr>\n",
       "      <th>269</th>\n",
       "      <td>269</td>\n",
       "      <td>Atmosphères\\n3.3</td>\n",
       "      <td>Data Analyst H/F</td>\n",
       "      <td>Bois-d'Arcy</td>\n",
       "      <td>Atmosphères est l'une des agences marketing te...</td>\n",
       "      <td>€45K - €55K (Employer est.)</td>\n",
       "      <td>51 to 200 Employees</td>\n",
       "      <td>Company - Private</td>\n",
       "      <td>Human Resources &amp; Staffing</td>\n",
       "      <td>HR Consulting</td>\n",
       "      <td>2002</td>\n",
       "      <td>$5 to $25 million (USD)</td>\n",
       "      <td>3.3</td>\n",
       "    </tr>\n",
       "  </tbody>\n",
       "</table>\n",
       "</div>"
      ],
      "text/plain": [
       "     Unnamed: 0           company                job title     location  \\\n",
       "268         268          Peroptyx  Analyste de données H/F        Paris   \n",
       "269         269  Atmosphères\\n3.3         Data Analyst H/F  Bois-d'Arcy   \n",
       "\n",
       "                                       job description  \\\n",
       "268  Vous recherchez un horaire de travail flexible...   \n",
       "269  Atmosphères est l'une des agences marketing te...   \n",
       "\n",
       "                 salary estimate         company_size       company_type  \\\n",
       "268  €45K - €55K (Employer est.)    1 to 50 Employees  Company - Private   \n",
       "269  €45K - €55K (Employer est.)  51 to 200 Employees  Company - Private   \n",
       "\n",
       "                 company_sector         company_industry  company_founded  \\\n",
       "268      Information Technology  Internet & Web Services             2018   \n",
       "269  Human Resources & Staffing            HR Consulting             2002   \n",
       "\n",
       "              company_revenue  rating  \n",
       "268  Unknown / Non-Applicable    -1.0  \n",
       "269   $5 to $25 million (USD)     3.3  "
      ]
     },
     "execution_count": 7,
     "metadata": {},
     "output_type": "execute_result"
    }
   ],
   "source": [
    "# Visualizae the last 2 points\n",
    "df.tail(2)"
   ]
  },
  {
   "cell_type": "code",
   "execution_count": 8,
   "id": "06ada399",
   "metadata": {},
   "outputs": [
    {
     "data": {
      "text/plain": [
       "Index(['Unnamed: 0', 'company', 'job title', 'location', 'job description',\n",
       "       'salary estimate', 'company_size', 'company_type', 'company_sector',\n",
       "       'company_industry', 'company_founded', 'company_revenue', 'rating'],\n",
       "      dtype='object')"
      ]
     },
     "execution_count": 8,
     "metadata": {},
     "output_type": "execute_result"
    }
   ],
   "source": [
    "# check table columns [features presented in the dataframe]\n",
    "df.columns"
   ]
  },
  {
   "cell_type": "code",
   "execution_count": 9,
   "id": "3622e1e0",
   "metadata": {},
   "outputs": [],
   "source": [
    "# Data cleanning\n",
    "# Remove 'Unnamed'\n",
    "df = df.drop(['Unnamed: 0'],axis=1)"
   ]
  },
  {
   "cell_type": "code",
   "execution_count": 10,
   "id": "639a5ef7",
   "metadata": {},
   "outputs": [
    {
     "data": {
      "text/html": [
       "<div>\n",
       "<style scoped>\n",
       "    .dataframe tbody tr th:only-of-type {\n",
       "        vertical-align: middle;\n",
       "    }\n",
       "\n",
       "    .dataframe tbody tr th {\n",
       "        vertical-align: top;\n",
       "    }\n",
       "\n",
       "    .dataframe thead th {\n",
       "        text-align: right;\n",
       "    }\n",
       "</style>\n",
       "<table border=\"1\" class=\"dataframe\">\n",
       "  <thead>\n",
       "    <tr style=\"text-align: right;\">\n",
       "      <th></th>\n",
       "      <th>company</th>\n",
       "      <th>job title</th>\n",
       "      <th>location</th>\n",
       "      <th>job description</th>\n",
       "      <th>salary estimate</th>\n",
       "      <th>company_size</th>\n",
       "      <th>company_type</th>\n",
       "      <th>company_sector</th>\n",
       "      <th>company_industry</th>\n",
       "      <th>company_founded</th>\n",
       "      <th>company_revenue</th>\n",
       "      <th>rating</th>\n",
       "    </tr>\n",
       "  </thead>\n",
       "  <tbody>\n",
       "    <tr>\n",
       "      <th>0</th>\n",
       "      <td>Publicis Sapient\\n3.7</td>\n",
       "      <td>Data Scientist - Senior Manager (H/F)</td>\n",
       "      <td>Paris</td>\n",
       "      <td>Company Description\\n\\nAs a digital business t...</td>\n",
       "      <td>€39K - €47K (Employer est.)</td>\n",
       "      <td>10000+ Employees</td>\n",
       "      <td>Company - Public</td>\n",
       "      <td>Management &amp; Consulting</td>\n",
       "      <td>Business Consulting</td>\n",
       "      <td>1990</td>\n",
       "      <td>Unknown / Non-Applicable</td>\n",
       "      <td>3.7</td>\n",
       "    </tr>\n",
       "    <tr>\n",
       "      <th>1</th>\n",
       "      <td>TotalEnergies\\n3.9</td>\n",
       "      <td>Data Scientist IA débutant F/H - Prédiction de...</td>\n",
       "      <td>Pau</td>\n",
       "      <td>Systèmes d'Information, Recherche Innovation&amp;D...</td>\n",
       "      <td>€39K - €47K (Employer est.)</td>\n",
       "      <td>10000+ Employees</td>\n",
       "      <td>Company - Public</td>\n",
       "      <td>Energy, Mining &amp; Utilities</td>\n",
       "      <td>Energy &amp; Utilities</td>\n",
       "      <td>1924</td>\n",
       "      <td>$25 to $100 million (USD)</td>\n",
       "      <td>3.9</td>\n",
       "    </tr>\n",
       "  </tbody>\n",
       "</table>\n",
       "</div>"
      ],
      "text/plain": [
       "                 company                                          job title  \\\n",
       "0  Publicis Sapient\\n3.7              Data Scientist - Senior Manager (H/F)   \n",
       "1     TotalEnergies\\n3.9  Data Scientist IA débutant F/H - Prédiction de...   \n",
       "\n",
       "  location                                    job description  \\\n",
       "0    Paris  Company Description\\n\\nAs a digital business t...   \n",
       "1      Pau  Systèmes d'Information, Recherche Innovation&D...   \n",
       "\n",
       "               salary estimate      company_size      company_type  \\\n",
       "0  €39K - €47K (Employer est.)  10000+ Employees  Company - Public   \n",
       "1  €39K - €47K (Employer est.)  10000+ Employees  Company - Public   \n",
       "\n",
       "               company_sector     company_industry  company_founded  \\\n",
       "0     Management & Consulting  Business Consulting             1990   \n",
       "1  Energy, Mining & Utilities   Energy & Utilities             1924   \n",
       "\n",
       "             company_revenue  rating  \n",
       "0   Unknown / Non-Applicable     3.7  \n",
       "1  $25 to $100 million (USD)     3.9  "
      ]
     },
     "execution_count": 10,
     "metadata": {},
     "output_type": "execute_result"
    }
   ],
   "source": [
    "df.head(2)"
   ]
  },
  {
   "cell_type": "code",
   "execution_count": 11,
   "id": "f1454c6f",
   "metadata": {},
   "outputs": [],
   "source": [
    "##### Task to be performed [ clean the data]\n",
    "#Salary parsing\n",
    "# Company name\n",
    "# City\n",
    "# job description [python, jave, ...]\n",
    "# Company Size\n",
    "# Company Type\n",
    "# Job Title [Senior|Junior]\n",
    "# Company revenue"
   ]
  },
  {
   "cell_type": "code",
   "execution_count": 12,
   "id": "706c45ce",
   "metadata": {},
   "outputs": [],
   "source": [
    "# salary parsing | remove where salary is '-1' means no salary data\n",
    "df = df[df['salary estimate'] != '-1']"
   ]
  },
  {
   "cell_type": "code",
   "execution_count": 13,
   "id": "9ef79681",
   "metadata": {},
   "outputs": [
    {
     "data": {
      "text/html": [
       "<div>\n",
       "<style scoped>\n",
       "    .dataframe tbody tr th:only-of-type {\n",
       "        vertical-align: middle;\n",
       "    }\n",
       "\n",
       "    .dataframe tbody tr th {\n",
       "        vertical-align: top;\n",
       "    }\n",
       "\n",
       "    .dataframe thead th {\n",
       "        text-align: right;\n",
       "    }\n",
       "</style>\n",
       "<table border=\"1\" class=\"dataframe\">\n",
       "  <thead>\n",
       "    <tr style=\"text-align: right;\">\n",
       "      <th></th>\n",
       "      <th>company</th>\n",
       "      <th>job title</th>\n",
       "      <th>location</th>\n",
       "      <th>job description</th>\n",
       "      <th>salary estimate</th>\n",
       "      <th>company_size</th>\n",
       "      <th>company_type</th>\n",
       "      <th>company_sector</th>\n",
       "      <th>company_industry</th>\n",
       "      <th>company_founded</th>\n",
       "      <th>company_revenue</th>\n",
       "      <th>rating</th>\n",
       "    </tr>\n",
       "  </thead>\n",
       "  <tbody>\n",
       "    <tr>\n",
       "      <th>268</th>\n",
       "      <td>Peroptyx</td>\n",
       "      <td>Analyste de données H/F</td>\n",
       "      <td>Paris</td>\n",
       "      <td>Vous recherchez un horaire de travail flexible...</td>\n",
       "      <td>€45K - €55K (Employer est.)</td>\n",
       "      <td>1 to 50 Employees</td>\n",
       "      <td>Company - Private</td>\n",
       "      <td>Information Technology</td>\n",
       "      <td>Internet &amp; Web Services</td>\n",
       "      <td>2018</td>\n",
       "      <td>Unknown / Non-Applicable</td>\n",
       "      <td>-1.0</td>\n",
       "    </tr>\n",
       "    <tr>\n",
       "      <th>269</th>\n",
       "      <td>Atmosphères\\n3.3</td>\n",
       "      <td>Data Analyst H/F</td>\n",
       "      <td>Bois-d'Arcy</td>\n",
       "      <td>Atmosphères est l'une des agences marketing te...</td>\n",
       "      <td>€45K - €55K (Employer est.)</td>\n",
       "      <td>51 to 200 Employees</td>\n",
       "      <td>Company - Private</td>\n",
       "      <td>Human Resources &amp; Staffing</td>\n",
       "      <td>HR Consulting</td>\n",
       "      <td>2002</td>\n",
       "      <td>$5 to $25 million (USD)</td>\n",
       "      <td>3.3</td>\n",
       "    </tr>\n",
       "  </tbody>\n",
       "</table>\n",
       "</div>"
      ],
      "text/plain": [
       "              company                job title     location  \\\n",
       "268          Peroptyx  Analyste de données H/F        Paris   \n",
       "269  Atmosphères\\n3.3         Data Analyst H/F  Bois-d'Arcy   \n",
       "\n",
       "                                       job description  \\\n",
       "268  Vous recherchez un horaire de travail flexible...   \n",
       "269  Atmosphères est l'une des agences marketing te...   \n",
       "\n",
       "                 salary estimate         company_size       company_type  \\\n",
       "268  €45K - €55K (Employer est.)    1 to 50 Employees  Company - Private   \n",
       "269  €45K - €55K (Employer est.)  51 to 200 Employees  Company - Private   \n",
       "\n",
       "                 company_sector         company_industry  company_founded  \\\n",
       "268      Information Technology  Internet & Web Services             2018   \n",
       "269  Human Resources & Staffing            HR Consulting             2002   \n",
       "\n",
       "              company_revenue  rating  \n",
       "268  Unknown / Non-Applicable    -1.0  \n",
       "269   $5 to $25 million (USD)     3.3  "
      ]
     },
     "execution_count": 13,
     "metadata": {},
     "output_type": "execute_result"
    }
   ],
   "source": [
    "df.tail(2)"
   ]
  },
  {
   "cell_type": "code",
   "execution_count": 14,
   "id": "36d96442",
   "metadata": {},
   "outputs": [],
   "source": [
    "# remove in salary '(Employer est.)'\n",
    "df['salary'] = df['salary estimate'].apply(lambda x: x.split('(')[0])"
   ]
  },
  {
   "cell_type": "code",
   "execution_count": 15,
   "id": "0aaeab51",
   "metadata": {},
   "outputs": [
    {
     "data": {
      "text/plain": [
       "Index(['company', 'job title', 'location', 'job description',\n",
       "       'salary estimate', 'company_size', 'company_type', 'company_sector',\n",
       "       'company_industry', 'company_founded', 'company_revenue', 'rating',\n",
       "       'salary'],\n",
       "      dtype='object')"
      ]
     },
     "execution_count": 15,
     "metadata": {},
     "output_type": "execute_result"
    }
   ],
   "source": [
    "df.columns"
   ]
  },
  {
   "cell_type": "code",
   "execution_count": 16,
   "id": "0e17613d",
   "metadata": {},
   "outputs": [
    {
     "data": {
      "text/html": [
       "<div>\n",
       "<style scoped>\n",
       "    .dataframe tbody tr th:only-of-type {\n",
       "        vertical-align: middle;\n",
       "    }\n",
       "\n",
       "    .dataframe tbody tr th {\n",
       "        vertical-align: top;\n",
       "    }\n",
       "\n",
       "    .dataframe thead th {\n",
       "        text-align: right;\n",
       "    }\n",
       "</style>\n",
       "<table border=\"1\" class=\"dataframe\">\n",
       "  <thead>\n",
       "    <tr style=\"text-align: right;\">\n",
       "      <th></th>\n",
       "      <th>company</th>\n",
       "      <th>job title</th>\n",
       "      <th>location</th>\n",
       "      <th>job description</th>\n",
       "      <th>salary estimate</th>\n",
       "      <th>company_size</th>\n",
       "      <th>company_type</th>\n",
       "      <th>company_sector</th>\n",
       "      <th>company_industry</th>\n",
       "      <th>company_founded</th>\n",
       "      <th>company_revenue</th>\n",
       "      <th>rating</th>\n",
       "      <th>salary</th>\n",
       "    </tr>\n",
       "  </thead>\n",
       "  <tbody>\n",
       "    <tr>\n",
       "      <th>268</th>\n",
       "      <td>Peroptyx</td>\n",
       "      <td>Analyste de données H/F</td>\n",
       "      <td>Paris</td>\n",
       "      <td>Vous recherchez un horaire de travail flexible...</td>\n",
       "      <td>€45K - €55K (Employer est.)</td>\n",
       "      <td>1 to 50 Employees</td>\n",
       "      <td>Company - Private</td>\n",
       "      <td>Information Technology</td>\n",
       "      <td>Internet &amp; Web Services</td>\n",
       "      <td>2018</td>\n",
       "      <td>Unknown / Non-Applicable</td>\n",
       "      <td>-1.0</td>\n",
       "      <td>€45K - €55K</td>\n",
       "    </tr>\n",
       "    <tr>\n",
       "      <th>269</th>\n",
       "      <td>Atmosphères\\n3.3</td>\n",
       "      <td>Data Analyst H/F</td>\n",
       "      <td>Bois-d'Arcy</td>\n",
       "      <td>Atmosphères est l'une des agences marketing te...</td>\n",
       "      <td>€45K - €55K (Employer est.)</td>\n",
       "      <td>51 to 200 Employees</td>\n",
       "      <td>Company - Private</td>\n",
       "      <td>Human Resources &amp; Staffing</td>\n",
       "      <td>HR Consulting</td>\n",
       "      <td>2002</td>\n",
       "      <td>$5 to $25 million (USD)</td>\n",
       "      <td>3.3</td>\n",
       "      <td>€45K - €55K</td>\n",
       "    </tr>\n",
       "  </tbody>\n",
       "</table>\n",
       "</div>"
      ],
      "text/plain": [
       "              company                job title     location  \\\n",
       "268          Peroptyx  Analyste de données H/F        Paris   \n",
       "269  Atmosphères\\n3.3         Data Analyst H/F  Bois-d'Arcy   \n",
       "\n",
       "                                       job description  \\\n",
       "268  Vous recherchez un horaire de travail flexible...   \n",
       "269  Atmosphères est l'une des agences marketing te...   \n",
       "\n",
       "                 salary estimate         company_size       company_type  \\\n",
       "268  €45K - €55K (Employer est.)    1 to 50 Employees  Company - Private   \n",
       "269  €45K - €55K (Employer est.)  51 to 200 Employees  Company - Private   \n",
       "\n",
       "                 company_sector         company_industry  company_founded  \\\n",
       "268      Information Technology  Internet & Web Services             2018   \n",
       "269  Human Resources & Staffing            HR Consulting             2002   \n",
       "\n",
       "              company_revenue  rating        salary  \n",
       "268  Unknown / Non-Applicable    -1.0  €45K - €55K   \n",
       "269   $5 to $25 million (USD)     3.3  €45K - €55K   "
      ]
     },
     "execution_count": 16,
     "metadata": {},
     "output_type": "execute_result"
    }
   ],
   "source": [
    "df.tail(2)"
   ]
  },
  {
   "cell_type": "code",
   "execution_count": 17,
   "id": "71cf56e5",
   "metadata": {},
   "outputs": [],
   "source": [
    "# salary\n",
    "df['salary'] = df['salary'].apply(lambda x:x.replace('K','').replace('€',''))"
   ]
  },
  {
   "cell_type": "code",
   "execution_count": 18,
   "id": "20716301",
   "metadata": {},
   "outputs": [
    {
     "data": {
      "text/html": [
       "<div>\n",
       "<style scoped>\n",
       "    .dataframe tbody tr th:only-of-type {\n",
       "        vertical-align: middle;\n",
       "    }\n",
       "\n",
       "    .dataframe tbody tr th {\n",
       "        vertical-align: top;\n",
       "    }\n",
       "\n",
       "    .dataframe thead th {\n",
       "        text-align: right;\n",
       "    }\n",
       "</style>\n",
       "<table border=\"1\" class=\"dataframe\">\n",
       "  <thead>\n",
       "    <tr style=\"text-align: right;\">\n",
       "      <th></th>\n",
       "      <th>company</th>\n",
       "      <th>job title</th>\n",
       "      <th>location</th>\n",
       "      <th>job description</th>\n",
       "      <th>salary estimate</th>\n",
       "      <th>company_size</th>\n",
       "      <th>company_type</th>\n",
       "      <th>company_sector</th>\n",
       "      <th>company_industry</th>\n",
       "      <th>company_founded</th>\n",
       "      <th>company_revenue</th>\n",
       "      <th>rating</th>\n",
       "      <th>salary</th>\n",
       "    </tr>\n",
       "  </thead>\n",
       "  <tbody>\n",
       "    <tr>\n",
       "      <th>268</th>\n",
       "      <td>Peroptyx</td>\n",
       "      <td>Analyste de données H/F</td>\n",
       "      <td>Paris</td>\n",
       "      <td>Vous recherchez un horaire de travail flexible...</td>\n",
       "      <td>€45K - €55K (Employer est.)</td>\n",
       "      <td>1 to 50 Employees</td>\n",
       "      <td>Company - Private</td>\n",
       "      <td>Information Technology</td>\n",
       "      <td>Internet &amp; Web Services</td>\n",
       "      <td>2018</td>\n",
       "      <td>Unknown / Non-Applicable</td>\n",
       "      <td>-1.0</td>\n",
       "      <td>45 - 55</td>\n",
       "    </tr>\n",
       "    <tr>\n",
       "      <th>269</th>\n",
       "      <td>Atmosphères\\n3.3</td>\n",
       "      <td>Data Analyst H/F</td>\n",
       "      <td>Bois-d'Arcy</td>\n",
       "      <td>Atmosphères est l'une des agences marketing te...</td>\n",
       "      <td>€45K - €55K (Employer est.)</td>\n",
       "      <td>51 to 200 Employees</td>\n",
       "      <td>Company - Private</td>\n",
       "      <td>Human Resources &amp; Staffing</td>\n",
       "      <td>HR Consulting</td>\n",
       "      <td>2002</td>\n",
       "      <td>$5 to $25 million (USD)</td>\n",
       "      <td>3.3</td>\n",
       "      <td>45 - 55</td>\n",
       "    </tr>\n",
       "  </tbody>\n",
       "</table>\n",
       "</div>"
      ],
      "text/plain": [
       "              company                job title     location  \\\n",
       "268          Peroptyx  Analyste de données H/F        Paris   \n",
       "269  Atmosphères\\n3.3         Data Analyst H/F  Bois-d'Arcy   \n",
       "\n",
       "                                       job description  \\\n",
       "268  Vous recherchez un horaire de travail flexible...   \n",
       "269  Atmosphères est l'une des agences marketing te...   \n",
       "\n",
       "                 salary estimate         company_size       company_type  \\\n",
       "268  €45K - €55K (Employer est.)    1 to 50 Employees  Company - Private   \n",
       "269  €45K - €55K (Employer est.)  51 to 200 Employees  Company - Private   \n",
       "\n",
       "                 company_sector         company_industry  company_founded  \\\n",
       "268      Information Technology  Internet & Web Services             2018   \n",
       "269  Human Resources & Staffing            HR Consulting             2002   \n",
       "\n",
       "              company_revenue  rating    salary  \n",
       "268  Unknown / Non-Applicable    -1.0  45 - 55   \n",
       "269   $5 to $25 million (USD)     3.3  45 - 55   "
      ]
     },
     "execution_count": 18,
     "metadata": {},
     "output_type": "execute_result"
    }
   ],
   "source": [
    "df.tail(2)"
   ]
  },
  {
   "cell_type": "code",
   "execution_count": 19,
   "id": "8a9ba6bf",
   "metadata": {},
   "outputs": [
    {
     "data": {
      "text/plain": [
       "0    39 - 47 \n",
       "1    39 - 47 \n",
       "2    39 - 47 \n",
       "Name: salary, dtype: object"
      ]
     },
     "execution_count": 19,
     "metadata": {},
     "output_type": "execute_result"
    }
   ],
   "source": [
    "df['salary'].head(3)"
   ]
  },
  {
   "cell_type": "code",
   "execution_count": 20,
   "id": "8870dab5",
   "metadata": {},
   "outputs": [
    {
     "data": {
      "text/plain": [
       "267    45 - 55 \n",
       "268    45 - 55 \n",
       "269    45 - 55 \n",
       "Name: salary, dtype: object"
      ]
     },
     "execution_count": 20,
     "metadata": {},
     "output_type": "execute_result"
    }
   ],
   "source": [
    "df['salary'].tail(3)"
   ]
  },
  {
   "cell_type": "code",
   "execution_count": 21,
   "id": "b2f26881",
   "metadata": {},
   "outputs": [],
   "source": [
    "df['min_salary'] = df['salary'].apply(lambda x:x.split('-')[0]).astype('int32')\n",
    "df['max_salary'] = df['salary'].apply(lambda x:x.split('-')[1]).astype('int32')"
   ]
  },
  {
   "cell_type": "code",
   "execution_count": 22,
   "id": "5338250f",
   "metadata": {},
   "outputs": [
    {
     "data": {
      "text/plain": [
       "0    39\n",
       "1    39\n",
       "Name: min_salary, dtype: int32"
      ]
     },
     "execution_count": 22,
     "metadata": {},
     "output_type": "execute_result"
    }
   ],
   "source": [
    "df['min_salary'].head(2)"
   ]
  },
  {
   "cell_type": "code",
   "execution_count": 23,
   "id": "732df4a1",
   "metadata": {},
   "outputs": [
    {
     "data": {
      "text/plain": [
       "0    47\n",
       "1    47\n",
       "Name: max_salary, dtype: int32"
      ]
     },
     "execution_count": 23,
     "metadata": {},
     "output_type": "execute_result"
    }
   ],
   "source": [
    "df['max_salary'].head(2)"
   ]
  },
  {
   "cell_type": "code",
   "execution_count": 24,
   "id": "9bdaa8cc",
   "metadata": {},
   "outputs": [
    {
     "data": {
      "text/html": [
       "<div>\n",
       "<style scoped>\n",
       "    .dataframe tbody tr th:only-of-type {\n",
       "        vertical-align: middle;\n",
       "    }\n",
       "\n",
       "    .dataframe tbody tr th {\n",
       "        vertical-align: top;\n",
       "    }\n",
       "\n",
       "    .dataframe thead th {\n",
       "        text-align: right;\n",
       "    }\n",
       "</style>\n",
       "<table border=\"1\" class=\"dataframe\">\n",
       "  <thead>\n",
       "    <tr style=\"text-align: right;\">\n",
       "      <th></th>\n",
       "      <th>company</th>\n",
       "      <th>job title</th>\n",
       "      <th>location</th>\n",
       "      <th>job description</th>\n",
       "      <th>salary estimate</th>\n",
       "      <th>company_size</th>\n",
       "      <th>company_type</th>\n",
       "      <th>company_sector</th>\n",
       "      <th>company_industry</th>\n",
       "      <th>company_founded</th>\n",
       "      <th>company_revenue</th>\n",
       "      <th>rating</th>\n",
       "      <th>salary</th>\n",
       "      <th>min_salary</th>\n",
       "      <th>max_salary</th>\n",
       "    </tr>\n",
       "  </thead>\n",
       "  <tbody>\n",
       "    <tr>\n",
       "      <th>268</th>\n",
       "      <td>Peroptyx</td>\n",
       "      <td>Analyste de données H/F</td>\n",
       "      <td>Paris</td>\n",
       "      <td>Vous recherchez un horaire de travail flexible...</td>\n",
       "      <td>€45K - €55K (Employer est.)</td>\n",
       "      <td>1 to 50 Employees</td>\n",
       "      <td>Company - Private</td>\n",
       "      <td>Information Technology</td>\n",
       "      <td>Internet &amp; Web Services</td>\n",
       "      <td>2018</td>\n",
       "      <td>Unknown / Non-Applicable</td>\n",
       "      <td>-1.0</td>\n",
       "      <td>45 - 55</td>\n",
       "      <td>45</td>\n",
       "      <td>55</td>\n",
       "    </tr>\n",
       "    <tr>\n",
       "      <th>269</th>\n",
       "      <td>Atmosphères\\n3.3</td>\n",
       "      <td>Data Analyst H/F</td>\n",
       "      <td>Bois-d'Arcy</td>\n",
       "      <td>Atmosphères est l'une des agences marketing te...</td>\n",
       "      <td>€45K - €55K (Employer est.)</td>\n",
       "      <td>51 to 200 Employees</td>\n",
       "      <td>Company - Private</td>\n",
       "      <td>Human Resources &amp; Staffing</td>\n",
       "      <td>HR Consulting</td>\n",
       "      <td>2002</td>\n",
       "      <td>$5 to $25 million (USD)</td>\n",
       "      <td>3.3</td>\n",
       "      <td>45 - 55</td>\n",
       "      <td>45</td>\n",
       "      <td>55</td>\n",
       "    </tr>\n",
       "  </tbody>\n",
       "</table>\n",
       "</div>"
      ],
      "text/plain": [
       "              company                job title     location  \\\n",
       "268          Peroptyx  Analyste de données H/F        Paris   \n",
       "269  Atmosphères\\n3.3         Data Analyst H/F  Bois-d'Arcy   \n",
       "\n",
       "                                       job description  \\\n",
       "268  Vous recherchez un horaire de travail flexible...   \n",
       "269  Atmosphères est l'une des agences marketing te...   \n",
       "\n",
       "                 salary estimate         company_size       company_type  \\\n",
       "268  €45K - €55K (Employer est.)    1 to 50 Employees  Company - Private   \n",
       "269  €45K - €55K (Employer est.)  51 to 200 Employees  Company - Private   \n",
       "\n",
       "                 company_sector         company_industry  company_founded  \\\n",
       "268      Information Technology  Internet & Web Services             2018   \n",
       "269  Human Resources & Staffing            HR Consulting             2002   \n",
       "\n",
       "              company_revenue  rating    salary  min_salary  max_salary  \n",
       "268  Unknown / Non-Applicable    -1.0  45 - 55           45          55  \n",
       "269   $5 to $25 million (USD)     3.3  45 - 55           45          55  "
      ]
     },
     "execution_count": 24,
     "metadata": {},
     "output_type": "execute_result"
    }
   ],
   "source": [
    "df.tail(2)"
   ]
  },
  {
   "cell_type": "code",
   "execution_count": 25,
   "id": "d7a5060b",
   "metadata": {},
   "outputs": [
    {
     "data": {
      "text/plain": [
       "0                 Data Scientist - Senior Manager (H/F)\n",
       "1     Data Scientist IA débutant F/H - Prédiction de...\n",
       "2                                    Data Analyst (H/F)\n",
       "3                                    Data scientist F/H\n",
       "4                                      Data Analyst H/F\n",
       "                            ...                        \n",
       "95                                       Data Scientist\n",
       "96                               CDD – CRM Data Analyst\n",
       "97                                  Data Analyst Export\n",
       "98                            Data Analyst Programmatic\n",
       "99                                 Product Data Analyst\n",
       "Name: job title, Length: 100, dtype: object"
      ]
     },
     "execution_count": 25,
     "metadata": {},
     "output_type": "execute_result"
    }
   ],
   "source": [
    "# job title\n",
    "df['job title'].head(100)"
   ]
  },
  {
   "cell_type": "code",
   "execution_count": 26,
   "id": "ba1db455",
   "metadata": {},
   "outputs": [],
   "source": [
    "df['title'] = df['job title'].apply(lambda x: 'Senior' if 'Senior' in x else 'junior')"
   ]
  },
  {
   "cell_type": "code",
   "execution_count": 27,
   "id": "f5d00172",
   "metadata": {},
   "outputs": [
    {
     "data": {
      "text/plain": [
       "0    Senior\n",
       "1    junior\n",
       "2    junior\n",
       "Name: title, dtype: object"
      ]
     },
     "execution_count": 27,
     "metadata": {},
     "output_type": "execute_result"
    }
   ],
   "source": [
    "df['title'].head(3)"
   ]
  },
  {
   "cell_type": "code",
   "execution_count": 28,
   "id": "e51761d9",
   "metadata": {},
   "outputs": [
    {
     "data": {
      "text/plain": [
       "267    junior\n",
       "268    junior\n",
       "269    junior\n",
       "Name: title, dtype: object"
      ]
     },
     "execution_count": 28,
     "metadata": {},
     "output_type": "execute_result"
    }
   ],
   "source": [
    "df['title'].tail(3)"
   ]
  },
  {
   "cell_type": "code",
   "execution_count": 29,
   "id": "40f0b5a1",
   "metadata": {},
   "outputs": [],
   "source": [
    "# Age\n",
    "df['age'] = df['company_founded'].apply(lambda x: x if x <1 else 2023 -x)"
   ]
  },
  {
   "cell_type": "code",
   "execution_count": 30,
   "id": "09b657b0",
   "metadata": {},
   "outputs": [
    {
     "data": {
      "text/html": [
       "<div>\n",
       "<style scoped>\n",
       "    .dataframe tbody tr th:only-of-type {\n",
       "        vertical-align: middle;\n",
       "    }\n",
       "\n",
       "    .dataframe tbody tr th {\n",
       "        vertical-align: top;\n",
       "    }\n",
       "\n",
       "    .dataframe thead th {\n",
       "        text-align: right;\n",
       "    }\n",
       "</style>\n",
       "<table border=\"1\" class=\"dataframe\">\n",
       "  <thead>\n",
       "    <tr style=\"text-align: right;\">\n",
       "      <th></th>\n",
       "      <th>company</th>\n",
       "      <th>job title</th>\n",
       "      <th>location</th>\n",
       "      <th>job description</th>\n",
       "      <th>salary estimate</th>\n",
       "      <th>company_size</th>\n",
       "      <th>company_type</th>\n",
       "      <th>company_sector</th>\n",
       "      <th>company_industry</th>\n",
       "      <th>company_founded</th>\n",
       "      <th>company_revenue</th>\n",
       "      <th>rating</th>\n",
       "      <th>salary</th>\n",
       "      <th>min_salary</th>\n",
       "      <th>max_salary</th>\n",
       "      <th>title</th>\n",
       "      <th>age</th>\n",
       "    </tr>\n",
       "  </thead>\n",
       "  <tbody>\n",
       "    <tr>\n",
       "      <th>267</th>\n",
       "      <td>MAIF\\n3.9</td>\n",
       "      <td>Data Scientist - Computer Vision - NIORT ou PA...</td>\n",
       "      <td>Paris</td>\n",
       "      <td>Intitulé du poste\\nData Scientist - Computer V...</td>\n",
       "      <td>€45K - €55K (Employer est.)</td>\n",
       "      <td>5001 to 10000 Employees</td>\n",
       "      <td>Company - Private</td>\n",
       "      <td>Insurance</td>\n",
       "      <td>Insurance Carriers</td>\n",
       "      <td>1934</td>\n",
       "      <td>$1 to $5 billion (USD)</td>\n",
       "      <td>3.9</td>\n",
       "      <td>45 - 55</td>\n",
       "      <td>45</td>\n",
       "      <td>55</td>\n",
       "      <td>junior</td>\n",
       "      <td>89</td>\n",
       "    </tr>\n",
       "    <tr>\n",
       "      <th>268</th>\n",
       "      <td>Peroptyx</td>\n",
       "      <td>Analyste de données H/F</td>\n",
       "      <td>Paris</td>\n",
       "      <td>Vous recherchez un horaire de travail flexible...</td>\n",
       "      <td>€45K - €55K (Employer est.)</td>\n",
       "      <td>1 to 50 Employees</td>\n",
       "      <td>Company - Private</td>\n",
       "      <td>Information Technology</td>\n",
       "      <td>Internet &amp; Web Services</td>\n",
       "      <td>2018</td>\n",
       "      <td>Unknown / Non-Applicable</td>\n",
       "      <td>-1.0</td>\n",
       "      <td>45 - 55</td>\n",
       "      <td>45</td>\n",
       "      <td>55</td>\n",
       "      <td>junior</td>\n",
       "      <td>5</td>\n",
       "    </tr>\n",
       "    <tr>\n",
       "      <th>269</th>\n",
       "      <td>Atmosphères\\n3.3</td>\n",
       "      <td>Data Analyst H/F</td>\n",
       "      <td>Bois-d'Arcy</td>\n",
       "      <td>Atmosphères est l'une des agences marketing te...</td>\n",
       "      <td>€45K - €55K (Employer est.)</td>\n",
       "      <td>51 to 200 Employees</td>\n",
       "      <td>Company - Private</td>\n",
       "      <td>Human Resources &amp; Staffing</td>\n",
       "      <td>HR Consulting</td>\n",
       "      <td>2002</td>\n",
       "      <td>$5 to $25 million (USD)</td>\n",
       "      <td>3.3</td>\n",
       "      <td>45 - 55</td>\n",
       "      <td>45</td>\n",
       "      <td>55</td>\n",
       "      <td>junior</td>\n",
       "      <td>21</td>\n",
       "    </tr>\n",
       "  </tbody>\n",
       "</table>\n",
       "</div>"
      ],
      "text/plain": [
       "              company                                          job title  \\\n",
       "267         MAIF\\n3.9  Data Scientist - Computer Vision - NIORT ou PA...   \n",
       "268          Peroptyx                            Analyste de données H/F   \n",
       "269  Atmosphères\\n3.3                                   Data Analyst H/F   \n",
       "\n",
       "        location                                    job description  \\\n",
       "267        Paris  Intitulé du poste\\nData Scientist - Computer V...   \n",
       "268        Paris  Vous recherchez un horaire de travail flexible...   \n",
       "269  Bois-d'Arcy  Atmosphères est l'une des agences marketing te...   \n",
       "\n",
       "                 salary estimate             company_size       company_type  \\\n",
       "267  €45K - €55K (Employer est.)  5001 to 10000 Employees  Company - Private   \n",
       "268  €45K - €55K (Employer est.)        1 to 50 Employees  Company - Private   \n",
       "269  €45K - €55K (Employer est.)      51 to 200 Employees  Company - Private   \n",
       "\n",
       "                 company_sector         company_industry  company_founded  \\\n",
       "267                   Insurance       Insurance Carriers             1934   \n",
       "268      Information Technology  Internet & Web Services             2018   \n",
       "269  Human Resources & Staffing            HR Consulting             2002   \n",
       "\n",
       "              company_revenue  rating    salary  min_salary  max_salary  \\\n",
       "267    $1 to $5 billion (USD)     3.9  45 - 55           45          55   \n",
       "268  Unknown / Non-Applicable    -1.0  45 - 55           45          55   \n",
       "269   $5 to $25 million (USD)     3.3  45 - 55           45          55   \n",
       "\n",
       "      title  age  \n",
       "267  junior   89  \n",
       "268  junior    5  \n",
       "269  junior   21  "
      ]
     },
     "execution_count": 30,
     "metadata": {},
     "output_type": "execute_result"
    }
   ],
   "source": [
    "df.tail(3)"
   ]
  },
  {
   "cell_type": "code",
   "execution_count": 31,
   "id": "cca955ae",
   "metadata": {},
   "outputs": [],
   "source": [
    "# job description #python, java, spark, phd, master\n",
    "#df['job description'].tail(20)\n",
    "df['python'] = df['job description'].apply(lambda x: 1 if 'python' in x.lower() else 0)\n",
    "df['spark'] = df['job description'].apply(lambda x: 1 if 'spark' in x.lower() else 0)\n",
    "df['Machine Learning'] = df['job description'].apply(lambda x: 1 if 'Machine Learning' in x.lower() else 0)\n",
    "df['phd'] = df['job description'].apply(lambda x: 1 if 'phd' in x.lower() else 0)\n",
    "df['master'] = df['job description'].apply(lambda x: 1 if 'master' in x.lower() else 0)\n",
    "\n"
   ]
  },
  {
   "cell_type": "code",
   "execution_count": 32,
   "id": "79431a96",
   "metadata": {},
   "outputs": [],
   "source": [
    "# companies\n",
    "df['company'] = df['company'].apply(lambda x: x.split('\\n')[0])"
   ]
  },
  {
   "cell_type": "code",
   "execution_count": 33,
   "id": "c7ab8db4",
   "metadata": {},
   "outputs": [
    {
     "data": {
      "text/plain": [
       "array(['Publicis Sapient', 'TotalEnergies', 'GROUPE LIMAGRAIN', 'Matmut',\n",
       "       'Inetum', 'Damart', 'Onera', 'innovation e-Santé Sud ieSS',\n",
       "       'CS GROUP', 'LIMAGRAIN EUROPE SAS', 'Atmosphères',\n",
       "       'TOYOTA MATERIAL HANDLING FRANCE', 'CGI FINANCE', 'L2C',\n",
       "       'Peroptyx', 'Teleperformance Portugal', 'Procter & Gamble',\n",
       "       \"Caisse d'Epargne Ile de France\", 'FED Finance', 'Seyos',\n",
       "       'Française des Jeux', 'MAIF', 'ALEIA', 'Saint Gobain', 'FIDUCIAL',\n",
       "       'MJV Technology & Innovation', 'Cognira', 'HURRYMAN',\n",
       "       'Le Groupe La Poste', 'Numberly', 'FED IT', 'Sightengine', 'MGEN',\n",
       "       'INFORMATIS', 'Novencia', 'Shift Technology', 'CS Group', 'Atos',\n",
       "       'Rubix', 'SumUp', 'Artefact', 'Licorne Society', 'Clarins',\n",
       "       'Nature et découvertes', 'McKinsey & Company', 'Société Générale',\n",
       "       'Breega', 'Capgemini', 'Insitoo', 'Natixis', 'EY', 'APRIL', 'AXA',\n",
       "       '1Dsolutions', 'Thales', 'Canal Plus', 'AUCHAN RETAIL SERVICES',\n",
       "       'mediametrie', 'Mirakl - French', 'Akkodis',\n",
       "       'Moët Hennessy Wines & Spirits', 'Nexton Consulting FR',\n",
       "       'Banque Populaire de Val de France', 'ENERCON', 'EssenceMediacom',\n",
       "       'Framatome', 'Talent Solutions', 'Visuary', 'John Cockerill',\n",
       "       'Cafeyn', 'Pennylane', 'Generali France', 'Air France-KLM',\n",
       "       'NEO SOFT', 'E.Leclerc', 'Groupe Rocher', 'Upfluence', 'GRDF',\n",
       "       'CARSO-LSEHL', 'Nielsen', 'Schneider Electric', 'digiRocks',\n",
       "       'MBR Partners', 'Stellantis',\n",
       "       'INRAE - Institut national de recherche pour l’agriculture, l’alimentation et l’environnement',\n",
       "       'AUSY'], dtype=object)"
      ]
     },
     "execution_count": 33,
     "metadata": {},
     "output_type": "execute_result"
    }
   ],
   "source": [
    "df['company'].unique()"
   ]
  },
  {
   "cell_type": "code",
   "execution_count": 34,
   "id": "55a4d12c",
   "metadata": {},
   "outputs": [
    {
     "data": {
      "text/plain": [
       "array(['Company - Public', 'Company - Private', 'Unknown', '-1',\n",
       "       'Self-employed', 'Subsidiary or Business Segment',\n",
       "       'Private Practice / Firm'], dtype=object)"
      ]
     },
     "execution_count": 34,
     "metadata": {},
     "output_type": "execute_result"
    }
   ],
   "source": [
    "# company type\n",
    "df['company_type'].unique()"
   ]
  },
  {
   "cell_type": "code",
   "execution_count": 35,
   "id": "364375bf",
   "metadata": {},
   "outputs": [],
   "source": [
    "#df['company type'] = df['company_type'].apply(lambda x: x.split('-')[1])"
   ]
  },
  {
   "cell_type": "code",
   "execution_count": 36,
   "id": "70c7ad22",
   "metadata": {},
   "outputs": [],
   "source": [
    "#df.tail(2)"
   ]
  },
  {
   "cell_type": "code",
   "execution_count": 37,
   "id": "a8766a71",
   "metadata": {},
   "outputs": [],
   "source": [
    "df['avg_salary'] = (df['max_salary']+df['min_salary'])/2"
   ]
  },
  {
   "cell_type": "code",
   "execution_count": 38,
   "id": "488ecf9f",
   "metadata": {},
   "outputs": [
    {
     "data": {
      "text/html": [
       "<div>\n",
       "<style scoped>\n",
       "    .dataframe tbody tr th:only-of-type {\n",
       "        vertical-align: middle;\n",
       "    }\n",
       "\n",
       "    .dataframe tbody tr th {\n",
       "        vertical-align: top;\n",
       "    }\n",
       "\n",
       "    .dataframe thead th {\n",
       "        text-align: right;\n",
       "    }\n",
       "</style>\n",
       "<table border=\"1\" class=\"dataframe\">\n",
       "  <thead>\n",
       "    <tr style=\"text-align: right;\">\n",
       "      <th></th>\n",
       "      <th>company</th>\n",
       "      <th>job title</th>\n",
       "      <th>location</th>\n",
       "      <th>job description</th>\n",
       "      <th>salary estimate</th>\n",
       "      <th>company_size</th>\n",
       "      <th>company_type</th>\n",
       "      <th>company_sector</th>\n",
       "      <th>company_industry</th>\n",
       "      <th>company_founded</th>\n",
       "      <th>...</th>\n",
       "      <th>min_salary</th>\n",
       "      <th>max_salary</th>\n",
       "      <th>title</th>\n",
       "      <th>age</th>\n",
       "      <th>python</th>\n",
       "      <th>spark</th>\n",
       "      <th>Machine Learning</th>\n",
       "      <th>phd</th>\n",
       "      <th>master</th>\n",
       "      <th>avg_salary</th>\n",
       "    </tr>\n",
       "  </thead>\n",
       "  <tbody>\n",
       "    <tr>\n",
       "      <th>268</th>\n",
       "      <td>Peroptyx</td>\n",
       "      <td>Analyste de données H/F</td>\n",
       "      <td>Paris</td>\n",
       "      <td>Vous recherchez un horaire de travail flexible...</td>\n",
       "      <td>€45K - €55K (Employer est.)</td>\n",
       "      <td>1 to 50 Employees</td>\n",
       "      <td>Company - Private</td>\n",
       "      <td>Information Technology</td>\n",
       "      <td>Internet &amp; Web Services</td>\n",
       "      <td>2018</td>\n",
       "      <td>...</td>\n",
       "      <td>45</td>\n",
       "      <td>55</td>\n",
       "      <td>junior</td>\n",
       "      <td>5</td>\n",
       "      <td>0</td>\n",
       "      <td>0</td>\n",
       "      <td>0</td>\n",
       "      <td>0</td>\n",
       "      <td>0</td>\n",
       "      <td>50.0</td>\n",
       "    </tr>\n",
       "    <tr>\n",
       "      <th>269</th>\n",
       "      <td>Atmosphères</td>\n",
       "      <td>Data Analyst H/F</td>\n",
       "      <td>Bois-d'Arcy</td>\n",
       "      <td>Atmosphères est l'une des agences marketing te...</td>\n",
       "      <td>€45K - €55K (Employer est.)</td>\n",
       "      <td>51 to 200 Employees</td>\n",
       "      <td>Company - Private</td>\n",
       "      <td>Human Resources &amp; Staffing</td>\n",
       "      <td>HR Consulting</td>\n",
       "      <td>2002</td>\n",
       "      <td>...</td>\n",
       "      <td>45</td>\n",
       "      <td>55</td>\n",
       "      <td>junior</td>\n",
       "      <td>21</td>\n",
       "      <td>0</td>\n",
       "      <td>0</td>\n",
       "      <td>0</td>\n",
       "      <td>0</td>\n",
       "      <td>0</td>\n",
       "      <td>50.0</td>\n",
       "    </tr>\n",
       "  </tbody>\n",
       "</table>\n",
       "<p>2 rows × 23 columns</p>\n",
       "</div>"
      ],
      "text/plain": [
       "         company                job title     location  \\\n",
       "268     Peroptyx  Analyste de données H/F        Paris   \n",
       "269  Atmosphères         Data Analyst H/F  Bois-d'Arcy   \n",
       "\n",
       "                                       job description  \\\n",
       "268  Vous recherchez un horaire de travail flexible...   \n",
       "269  Atmosphères est l'une des agences marketing te...   \n",
       "\n",
       "                 salary estimate         company_size       company_type  \\\n",
       "268  €45K - €55K (Employer est.)    1 to 50 Employees  Company - Private   \n",
       "269  €45K - €55K (Employer est.)  51 to 200 Employees  Company - Private   \n",
       "\n",
       "                 company_sector         company_industry  company_founded  \\\n",
       "268      Information Technology  Internet & Web Services             2018   \n",
       "269  Human Resources & Staffing            HR Consulting             2002   \n",
       "\n",
       "     ... min_salary  max_salary   title  age  python spark  Machine Learning  \\\n",
       "268  ...         45          55  junior    5       0     0                 0   \n",
       "269  ...         45          55  junior   21       0     0                 0   \n",
       "\n",
       "     phd  master  avg_salary  \n",
       "268    0       0        50.0  \n",
       "269    0       0        50.0  \n",
       "\n",
       "[2 rows x 23 columns]"
      ]
     },
     "execution_count": 38,
     "metadata": {},
     "output_type": "execute_result"
    }
   ],
   "source": [
    "df.tail(2)"
   ]
  },
  {
   "cell_type": "code",
   "execution_count": 39,
   "id": "04522e56",
   "metadata": {},
   "outputs": [],
   "source": [
    "# Save data"
   ]
  },
  {
   "cell_type": "code",
   "execution_count": 40,
   "id": "3524c5fe",
   "metadata": {},
   "outputs": [],
   "source": [
    "df = df[['avg_salary','company','rating','job title','location','job description','company_type','company_sector','company_industry','age','title','python','spark','Machine Learning','phd','master','min_salary','max_salary']]\n",
    "\n"
   ]
  },
  {
   "cell_type": "code",
   "execution_count": 41,
   "id": "e5862509",
   "metadata": {},
   "outputs": [
    {
     "data": {
      "text/html": [
       "<div>\n",
       "<style scoped>\n",
       "    .dataframe tbody tr th:only-of-type {\n",
       "        vertical-align: middle;\n",
       "    }\n",
       "\n",
       "    .dataframe tbody tr th {\n",
       "        vertical-align: top;\n",
       "    }\n",
       "\n",
       "    .dataframe thead th {\n",
       "        text-align: right;\n",
       "    }\n",
       "</style>\n",
       "<table border=\"1\" class=\"dataframe\">\n",
       "  <thead>\n",
       "    <tr style=\"text-align: right;\">\n",
       "      <th></th>\n",
       "      <th>avg_salary</th>\n",
       "      <th>company</th>\n",
       "      <th>rating</th>\n",
       "      <th>job title</th>\n",
       "      <th>location</th>\n",
       "      <th>job description</th>\n",
       "      <th>company_type</th>\n",
       "      <th>company_sector</th>\n",
       "      <th>company_industry</th>\n",
       "      <th>age</th>\n",
       "      <th>title</th>\n",
       "      <th>python</th>\n",
       "      <th>spark</th>\n",
       "      <th>Machine Learning</th>\n",
       "      <th>phd</th>\n",
       "      <th>master</th>\n",
       "      <th>min_salary</th>\n",
       "      <th>max_salary</th>\n",
       "    </tr>\n",
       "  </thead>\n",
       "  <tbody>\n",
       "    <tr>\n",
       "      <th>0</th>\n",
       "      <td>43.0</td>\n",
       "      <td>Publicis Sapient</td>\n",
       "      <td>3.7</td>\n",
       "      <td>Data Scientist - Senior Manager (H/F)</td>\n",
       "      <td>Paris</td>\n",
       "      <td>Company Description\\n\\nAs a digital business t...</td>\n",
       "      <td>Company - Public</td>\n",
       "      <td>Management &amp; Consulting</td>\n",
       "      <td>Business Consulting</td>\n",
       "      <td>33</td>\n",
       "      <td>Senior</td>\n",
       "      <td>0</td>\n",
       "      <td>0</td>\n",
       "      <td>0</td>\n",
       "      <td>0</td>\n",
       "      <td>0</td>\n",
       "      <td>39</td>\n",
       "      <td>47</td>\n",
       "    </tr>\n",
       "    <tr>\n",
       "      <th>1</th>\n",
       "      <td>43.0</td>\n",
       "      <td>TotalEnergies</td>\n",
       "      <td>3.9</td>\n",
       "      <td>Data Scientist IA débutant F/H - Prédiction de...</td>\n",
       "      <td>Pau</td>\n",
       "      <td>Systèmes d'Information, Recherche Innovation&amp;D...</td>\n",
       "      <td>Company - Public</td>\n",
       "      <td>Energy, Mining &amp; Utilities</td>\n",
       "      <td>Energy &amp; Utilities</td>\n",
       "      <td>99</td>\n",
       "      <td>junior</td>\n",
       "      <td>0</td>\n",
       "      <td>0</td>\n",
       "      <td>0</td>\n",
       "      <td>0</td>\n",
       "      <td>0</td>\n",
       "      <td>39</td>\n",
       "      <td>47</td>\n",
       "    </tr>\n",
       "    <tr>\n",
       "      <th>2</th>\n",
       "      <td>43.0</td>\n",
       "      <td>GROUPE LIMAGRAIN</td>\n",
       "      <td>4.1</td>\n",
       "      <td>Data Analyst (H/F)</td>\n",
       "      <td>Saint-Beauzire</td>\n",
       "      <td>Famille de métier\\nFONCTIONS SUPPORT - SI\\nTyp...</td>\n",
       "      <td>Company - Private</td>\n",
       "      <td>Agriculture</td>\n",
       "      <td>Crop Production</td>\n",
       "      <td>58</td>\n",
       "      <td>junior</td>\n",
       "      <td>0</td>\n",
       "      <td>0</td>\n",
       "      <td>0</td>\n",
       "      <td>0</td>\n",
       "      <td>0</td>\n",
       "      <td>39</td>\n",
       "      <td>47</td>\n",
       "    </tr>\n",
       "  </tbody>\n",
       "</table>\n",
       "</div>"
      ],
      "text/plain": [
       "   avg_salary           company  rating  \\\n",
       "0        43.0  Publicis Sapient     3.7   \n",
       "1        43.0     TotalEnergies     3.9   \n",
       "2        43.0  GROUPE LIMAGRAIN     4.1   \n",
       "\n",
       "                                           job title        location  \\\n",
       "0              Data Scientist - Senior Manager (H/F)           Paris   \n",
       "1  Data Scientist IA débutant F/H - Prédiction de...             Pau   \n",
       "2                                 Data Analyst (H/F)  Saint-Beauzire   \n",
       "\n",
       "                                     job description       company_type  \\\n",
       "0  Company Description\\n\\nAs a digital business t...   Company - Public   \n",
       "1  Systèmes d'Information, Recherche Innovation&D...   Company - Public   \n",
       "2  Famille de métier\\nFONCTIONS SUPPORT - SI\\nTyp...  Company - Private   \n",
       "\n",
       "               company_sector     company_industry  age   title  python  \\\n",
       "0     Management & Consulting  Business Consulting   33  Senior       0   \n",
       "1  Energy, Mining & Utilities   Energy & Utilities   99  junior       0   \n",
       "2                 Agriculture      Crop Production   58  junior       0   \n",
       "\n",
       "   spark  Machine Learning  phd  master  min_salary  max_salary  \n",
       "0      0                 0    0       0          39          47  \n",
       "1      0                 0    0       0          39          47  \n",
       "2      0                 0    0       0          39          47  "
      ]
     },
     "execution_count": 41,
     "metadata": {},
     "output_type": "execute_result"
    }
   ],
   "source": [
    "df.head(3)"
   ]
  },
  {
   "cell_type": "code",
   "execution_count": 42,
   "id": "a9458c72",
   "metadata": {},
   "outputs": [],
   "source": [
    "# save the data as csv file\n",
    "df.to_csv('Data_clean_glassdoor.csv')"
   ]
  },
  {
   "cell_type": "code",
   "execution_count": null,
   "id": "7d32295c",
   "metadata": {},
   "outputs": [],
   "source": []
  },
  {
   "cell_type": "code",
   "execution_count": null,
   "id": "07830a5c",
   "metadata": {},
   "outputs": [],
   "source": []
  }
 ],
 "metadata": {
  "kernelspec": {
   "display_name": "Python 3 (ipykernel)",
   "language": "python",
   "name": "python3"
  },
  "language_info": {
   "codemirror_mode": {
    "name": "ipython",
    "version": 3
   },
   "file_extension": ".py",
   "mimetype": "text/x-python",
   "name": "python",
   "nbconvert_exporter": "python",
   "pygments_lexer": "ipython3",
   "version": "3.10.6"
  }
 },
 "nbformat": 4,
 "nbformat_minor": 5
}
